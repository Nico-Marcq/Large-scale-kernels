{
 "cells": [
  {
   "cell_type": "markdown",
   "metadata": {},
   "source": [
    "# Large Scale Kernel Methods\n",
    "\n",
    "## sklearn's SVC vs sklearn's LinearSVC vs Random Fourier Features method vs Nyström's method"
   ]
  },
  {
   "cell_type": "code",
   "execution_count": 1,
   "metadata": {},
   "outputs": [],
   "source": [
    "import numpy as np\n",
    "from scipy import linalg\n",
    "from tqdm import tqdm # optional\n",
    "import matplotlib.pyplot as plt\n",
    "plt.style.use('ggplot')\n",
    "import pandas as pd\n",
    " \n",
    "from sklearn.model_selection import train_test_split\n",
    "from sklearn.preprocessing import StandardScaler\n",
    "from sklearn.datasets import load_svmlight_file\n",
    "\n",
    "from sklearn.svm import SVC, LinearSVC\n",
    "from time import time"
   ]
  },
  {
   "cell_type": "markdown",
   "metadata": {},
   "source": [
    "## Loading and splitting dataset"
   ]
  },
  {
   "cell_type": "code",
   "execution_count": 2,
   "metadata": {},
   "outputs": [
    {
     "name": "stdout",
     "output_type": "stream",
     "text": [
      "<class 'scipy.sparse.csr.csr_matrix'>\n",
      "n° of training samples: 20000\n",
      "n° of test samples: 29990\n",
      "n° of features: 22\n"
     ]
    }
   ],
   "source": [
    "###############################################################################\n",
    "# Requires file ijcnn1.dat.gz to be present in the directory\n",
    "\n",
    "dataset_path = 'ijcnn1.bz2'\n",
    "ijcnn1 = load_svmlight_file(dataset_path)\n",
    "\n",
    "X = ijcnn1[0]\n",
    "y = ijcnn1[1]\n",
    "print(type(X))            # X is a scipy CSR matrix, Y is a numpy array\n",
    "X = X.toarray()           # Let's convert X to a numpy array so we can use StandardScaler() \n",
    "\n",
    "###############################################################################\n",
    "# Extracting features\n",
    "\n",
    "X_train, X_test, y_train, y_test = train_test_split(X,y, train_size = 20000)\n",
    "\n",
    "scaler = StandardScaler()\n",
    "X_train = scaler.fit_transform(X_train)\n",
    "X_test = scaler.fit_transform(X_test)\n",
    "\n",
    "n1, p = X_train.shape\n",
    "n2 = X_test.shape[0]\n",
    "\n",
    "print(\"n° of training samples:\", n1)\n",
    "print(\"n° of test samples:\", n2)\n",
    "print(\"n° of features:\", p)"
   ]
  },
  {
   "cell_type": "markdown",
   "metadata": {},
   "source": [
    "## sklearn SVC vs LinearSVC"
   ]
  },
  {
   "cell_type": "code",
   "execution_count": 3,
   "metadata": {},
   "outputs": [
    {
     "name": "stdout",
     "output_type": "stream",
     "text": [
      "Fitting Linear SVC on 20000 samples...\n",
      "done in 0.156s\n",
      "Predicting with LinearSVC on 29990 samples...\n",
      "done in 0.092s\n",
      "classification accuracy: 0.923\n",
      "Fitting SVC on 20000 samples...\n",
      "done in 6.401s\n",
      "Predicting with SVC on 29990 samples...\n",
      "done in 4.436s\n",
      "classification accuracy: 0.975\n",
      "-----------------------------------------------------------\n",
      "training : LinearSVC is 40.96 times faster than Gaussian SVC\n",
      "decoding : LinearSVC is 48.07 times faster that Gaussian SVC\n",
      "accuracy : Gaussian SVC model is 1.06 times more accurate than LinearSVC\n"
     ]
    }
   ],
   "source": [
    "print(\"Fitting Linear SVC on %d samples...\" % X_train.shape[0])\n",
    "t0 = time()\n",
    "linear_clf = LinearSVC(dual = False)     # Build a LinearSVC model\n",
    "linear_clf.fit(X_train,y_train)          # Train it\n",
    "t_fit_linear_clf = time() - t0\n",
    "print(\"done in %0.3fs\" % t_fit_linear_clf)\n",
    "print(\"Predicting with LinearSVC on %d samples...\" % X_test.shape[0])\n",
    "t0 = time()\n",
    "linear_clf.predict(X_test)               # Use it to predict outputs\n",
    "t_predict_linear_clf = time() - t0\n",
    "print(\"done in %0.3fs\" % t_predict_linear_clf)\n",
    "accuracy_linear = linear_clf.score(X_test,y_test)    # Get accuracy\n",
    "print(\"classification accuracy: %0.3f\" % accuracy_linear)\n",
    "\n",
    "\n",
    "print(\"Fitting SVC on %d samples...\" % X_train.shape[0])\n",
    "t0 = time()\n",
    "kernel_clf = SVC()                       # Build a Gaussian SVC model\n",
    "kernel_clf.fit(X_train,y_train)          # Train it\n",
    "t_fit_kernel_clf = time() - t0\n",
    "print(\"done in %0.3fs\" % t_fit_kernel_clf)\n",
    "print(\"Predicting with SVC on %d samples...\" % X_test.shape[0])\n",
    "t0 = time()\n",
    "kernel_clf.predict(X_test)               # Use it to predict outputs\n",
    "t_predict_kernel_clf = time() - t0\n",
    "print(\"done in %0.3fs\" % (t_predict_kernel_clf))\n",
    "accuracy_kernel = kernel_clf.score(X_test,y_test)    # Get accuracy\n",
    "print(\"classification accuracy: %0.3f\" % accuracy_kernel)   \n",
    "\n",
    "\n",
    "\n",
    "## Comparing times and accuracies\n",
    "\n",
    "print(\"-----------------------------------------------------------\")\n",
    "print(\"training : LinearSVC is %0.2f times faster than Gaussian SVC\" % (t_fit_kernel_clf/t_fit_linear_clf))\n",
    "print(\"decoding : LinearSVC is %0.2f times faster that Gaussian SVC\" % (t_predict_kernel_clf/t_predict_linear_clf))\n",
    "print(\"accuracy : Gaussian SVC model is %0.2f times more accurate than LinearSVC\" % (accuracy_kernel/accuracy_linear))"
   ]
  },
  {
   "cell_type": "markdown",
   "metadata": {},
   "source": [
    "## K-rank approximation of a matrix"
   ]
  },
  {
   "cell_type": "markdown",
   "metadata": {},
   "source": [
    "Let's define a function to calculate a k-rank approximation of a Gram matrix, using Scipy's spectral decomposition svds (fast) versus svd (slow)"
   ]
  },
  {
   "cell_type": "code",
   "execution_count": 4,
   "metadata": {},
   "outputs": [],
   "source": [
    "from scipy.sparse.linalg import svds\n",
    "from scipy.linalg import svd\n",
    "\n",
    "\n",
    "# k-th order approximation of the Gram Matrix G.\n",
    "# Parameters\n",
    "#     ----------\n",
    "#    gram_mat : array, shape (n_samples, n_samples) : the Gram matrix\n",
    "#    k : int : the order approximation\n",
    "#    fast : bool : use svd (if False) or svds (if True)\n",
    "# Return\n",
    "#    -----\n",
    "#    gram_mat_k : array, shape (n_samples, n_samples) : The rank k Gram matrix.\n",
    "\n",
    "def rank_trunc(gram_mat, k, fast = True):\n",
    "    if fast:\n",
    "        u, s, vh = svds(gram_mat, k, which='LM')     # Getting k largest singular values \n",
    "        sigma = np.zeros((k,k))                      \n",
    "        for i in range(k):                           \n",
    "            sigma[i,i] = s[i]                        # Filling a diagonal matrix with the k largest singular values\n",
    "        gram_mat_k = u @ sigma @ vh                  # Constructing the k-rank approximation matrix\n",
    "\n",
    "        return gram_mat_k\n",
    "    \n",
    "    else:\n",
    "        u, s, vh = svd(gram_mat)                     # Getting all singular values\n",
    "        sigma = np.zeros(gram_mat.shape)        \n",
    "        for i in range(k):         \n",
    "            sigma[i,i] = s[i]                        # Filling a diagonal matrix with the k largest singular values\n",
    "        \n",
    "        for i in range(k+1, gram_mat.shape[0]):     \n",
    "            u[:,i] = 0                               # Deleting all values of u and vh for index larger than k\n",
    "            vh[i,:] = 0                              \n",
    "        gram_mat_k = u @ sigma @ vh                  # Constructing the k-rank approximation matrix       \n",
    "        \n",
    "        return gram_mat_k\n",
    "\n"
   ]
  },
  {
   "cell_type": "markdown",
   "metadata": {},
   "source": [
    "## Comparing the two versions of k-rank approximation\n",
    "\n",
    "and plotting the results against k"
   ]
  },
  {
   "cell_type": "code",
   "execution_count": 5,
   "metadata": {},
   "outputs": [
    {
     "name": "stderr",
     "output_type": "stream",
     "text": [
      "199it [00:23,  8.61it/s]\n"
     ]
    },
    {
     "data": {
      "image/png": "[encoded data removed]",
      "text/plain": [
       "<Figure size 720x432 with 2 Axes>"
      ]
     },
     "metadata": {},
     "output_type": "display_data"
    }
   ],
   "source": [
    "p = 200\n",
    "r_noise = 100\n",
    "r_signal = 20\n",
    "\n",
    "intensity = 50\n",
    "\n",
    "rng = np.random.RandomState(42)       \n",
    "\n",
    "X_noise = rng.normal(loc =0, scale = 1, size = (100, 200))    # Creating a normal distributed random noise \n",
    "gram_noise = np.transpose(X_noise) @ X_noise                 \n",
    "                                                             \n",
    "X_signal = rng.normal(loc =0, scale = 1, size = (20, 200))    # Creating a normally distributed random signalrandomidem avec X_signal\n",
    "gram_signal = np.transpose(X_signal) @ X_signal\n",
    "\n",
    "gram = intensity * gram_signal + gram_noise\n",
    "\n",
    "\n",
    "n_ranks = 199                                                  \n",
    "ranks = np.arange(1, n_ranks + 1)                           # Creating results tables\n",
    "timing_fast = np.zeros(n_ranks)\n",
    "timing_slow = np.zeros(n_ranks)\n",
    "rel_error_slow = np.zeros(n_ranks)\n",
    "rel_error_fast = np.zeros(n_ranks)\n",
    "\n",
    "for k, rank in tqdm(enumerate(ranks)):\n",
    "    t0 = time()\n",
    "    foo = rank_trunc(gram,rank, fast = True)                 # Measuring the function on fast mode...\n",
    "    timing_fast[k] = time() - t0\n",
    "    \n",
    "    t0 = time()\n",
    "    bar = rank_trunc(gram,rank, fast = False)                  # ... and slow mode\n",
    "    timing_slow[k] = time() - t0                               \n",
    "\n",
    "    # Getting errors with Frobenius norm\n",
    "    rel_error_fast[k] =np.linalg.norm(foo - gram , ord = 'fro') / np.linalg.norm(gram, ord = 'fro')\n",
    "    rel_error_slow[k] = np.linalg.norm(bar - gram , ord = 'fro') / np.linalg.norm(gram, ord = 'fro')\n",
    "\n",
    "\n",
    "    \n",
    "# Display\n",
    "f, axes = plt.subplots(ncols=1, nrows=2, figsize=(10,6))\n",
    "ax1, ax2 = axes.ravel()\n",
    "ax1.plot(ranks, timing_fast, '-', label='fast')\n",
    "ax1.plot(ranks, timing_slow, '-', label='slow')\n",
    "ax1.legend()\n",
    "ax1.set_xlabel('Rank')\n",
    "ax1.set_ylabel('Time')\n",
    "\n",
    "ax2.plot(ranks, rel_error_slow, '-', label = 'slow')\n",
    "ax2.plot(ranks, rel_error_fast, '-', label = 'fast')\n",
    "ax2.set_xlabel('Rank')\n",
    "ax2.set_ylabel('Relative Error')\n",
    "#ax2.set_ylim([-1, 2])\n",
    "plt.tight_layout()\n",
    "plt.show()\n",
    "\n"
   ]
  },
  {
   "cell_type": "markdown",
   "metadata": {},
   "source": [
    "\n",
    "## Comments\n",
    "The relative errors are striclty the same with the two methods as intended.\n",
    "It is useless to  use a k-rank higher than 25 in this case.\n",
    "Using Scipy's svd is counter-intuitively faster than svds, since svd computes all 200 singular values when svds computes only the k largest. \n"
   ]
  },
  {
   "cell_type": "markdown",
   "metadata": {},
   "source": [
    "## Random Fourier features algorithm"
   ]
  },
  {
   "cell_type": "code",
   "execution_count": 6,
   "metadata": {},
   "outputs": [],
   "source": [
    "from sklearn.kernel_approximation import RBFSampler\n",
    "\n",
    "def random_features(X_train, X_test, gamma, c=300, seed=42):\n",
    "    \"\"\"Compute random kernel features\n",
    "\n",
    "    Parameters\n",
    "    ----------\n",
    "    X_train : array, shape (n_samples1, n_features)\n",
    "        The train samples.\n",
    "    X_test : array, shape (n_samples2, n_features)\n",
    "        The test samples.\n",
    "    gamma : float\n",
    "        The Gaussian kernel parameter\n",
    "    c : int\n",
    "        The number of components\n",
    "    seed : int\n",
    "        The seed for random number generation\n",
    "\n",
    "    Return\n",
    "    ------\n",
    "    X_new_train : array, shape (n_samples1, c)\n",
    "        The new train samples.\n",
    "    X_new_test : array, shape (n_samples2, c)\n",
    "        The new test samples.\n",
    "    \"\"\"\n",
    "    rng = np.random.RandomState(seed)\n",
    "    \n",
    "    W = rng.normal(loc =0, scale = 2 * gamma, size = (X_train.shape[1],c))  # Creating normally distributed random values\n",
    "    b = rng.uniform(low=0.0, high=2 * np.pi, size=(1,c))                    # Creating uniformly distributed random values\n",
    "    \n",
    "    X_new_train = np.zeros((X_train.shape[0],c))                            \n",
    "    X_new_test = np.zeros((X_test.shape[0],c))                              \n",
    "\n",
    "    for i in range (X_train.shape[0]):                                      \n",
    "        X_new_train[i,:] = np.sqrt(2/c) * np.cos( X_train[i,:] @ W +b )     \n",
    "\n",
    "    for i in range(X_test.shape[0]):\n",
    "        X_new_test[i,:] = np.sqrt(2/c) * np.cos( X_test[i,:] @ W +b )\n",
    "    \n",
    "    return X_new_train, X_new_test"
   ]
  },
  {
   "cell_type": "markdown",
   "metadata": {},
   "source": [
    " Let's use it with $c=300$."
   ]
  },
  {
   "cell_type": "code",
   "execution_count": 7,
   "metadata": {},
   "outputs": [
    {
     "name": "stdout",
     "output_type": "stream",
     "text": [
      "Fitting Random Fourier features methods on 20000 samples...\n",
      "done in 2.206s\n",
      "Predicting with Random Fourier features methods on 29990 samples...\n",
      "done in 0.033s\n",
      "classification accuracy: 0.941\n",
      "\n"
     ]
    }
   ],
   "source": [
    "n_samples, n_features = X_train.shape\n",
    "n_samples_test, _ = X_test.shape\n",
    "gamma = 1. / n_features\n",
    "Z_train, Z_test = random_features(X_train, X_test, gamma, 300, 42)\n",
    "print(\"Fitting Random Fourier features methods on %d samples...\" % n_samples)\n",
    "t0 = time()\n",
    "linear_clf.fit(Z_train, y_train)\n",
    "t_fit_rand_feat = time() -t0\n",
    "print(\"done in %0.3fs\" % t_fit_rand_feat)\n",
    "\n",
    "print(\"Predicting with Random Fourier features methods on %d samples...\" % n_samples_test)\n",
    "t0 = time()\n",
    "linear_clf.predict(Z_test)\n",
    "t_predict_rand_feat = time()-t0\n",
    "print(\"done in %0.3fs\" % t_predict_rand_feat)\n",
    "accuracy_rand_feat = linear_clf.score(Z_test, y_test)\n",
    "print(\"classification accuracy: %0.3f\\n\" % accuracy_rand_feat)\n"
   ]
  },
  {
   "cell_type": "markdown",
   "metadata": {},
   "source": [
    "## Nyström algorithm"
   ]
  },
  {
   "cell_type": "code",
   "execution_count": 8,
   "metadata": {},
   "outputs": [],
   "source": [
    "from sklearn.metrics.pairwise import rbf_kernel\n",
    "\n",
    "def nystrom(X_train, X_test, gamma, c=500, k=200, seed=44):\n",
    "    \"\"\"Compute nystrom kernel approximation\n",
    "\n",
    "    Parameters\n",
    "    ----------\n",
    "    X_train : array, shape (n_samples1, n_features)\n",
    "        The train samples.\n",
    "    X_test : array, shape (n_samples2, n_features)\n",
    "        The test samples.\n",
    "    gamma : float\n",
    "        The Gaussian kernel parameter\n",
    "    c : int\n",
    "        The number of points to sample for the approximation\n",
    "    k : int\n",
    "        The number of components\n",
    "    seed : int\n",
    "        The seed for random number generation\n",
    "\n",
    "    Return\n",
    "    ------\n",
    "    X_new_train : array, shape (n_samples1, c)\n",
    "        The new train samples.\n",
    "    X_new_test : array, shape (n_samples2, c)\n",
    "        The new test samples.\n",
    "    \"\"\"\n",
    "    rng = np.random.RandomState(seed)\n",
    "    \n",
    "    I = []\n",
    "    X = np.zeros((c,X_train.shape[1]))\n",
    "    rng = np.random.RandomState(seed)\n",
    "    for i in range(c):                                            \n",
    "        I.append(rng.randint(low = 0, high = X_train.shape[0]))  # Randomly picking c rows out of X_train\n",
    "        X[i,:] = X_train[I[i],:]                                 # and copying them in matrix X\n",
    "        \n",
    "    Wij = rbf_kernel(X,  gamma = gamma)                          # Getting X's Gram matrix\n",
    "\n",
    "       \n",
    "    u, s, vh = svd(Wij)                      # Getting the singular values\n",
    "    sigma = np.zeros((k,k))                  \n",
    "    for i in range(k):\n",
    "        sigma[i,i] = s[i]                    # and filling a diagonal matrix with the k largest\n",
    "    \n",
    "    u = np.delete(u, range(k,c), axis = 1)   # Deleting all values for u and vh for index larger than k\n",
    "    vh = np.delete(vh, range(k,c), axis = 0) \n",
    "    \n",
    "    Mk = u @ np.sqrt(np.linalg.inv(sigma))  \n",
    "    \n",
    "    C_train = rbf_kernel(X_train, X, gamma = gamma)   # Creating C_train and C_test\n",
    "    C_test = rbf_kernel(X_test, X, gamma = gamma)\n",
    "    \n",
    "    X_new_train = C_train @ Mk\n",
    "    X_new_test = C_test @ Mk\n",
    "    \n",
    "    return X_new_train, X_new_test"
   ]
  },
  {
   "cell_type": "markdown",
   "metadata": {},
   "source": [
    "Let's use it with $c=500$ and $k=300$"
   ]
  },
  {
   "cell_type": "code",
   "execution_count": 9,
   "metadata": {},
   "outputs": [
    {
     "name": "stdout",
     "output_type": "stream",
     "text": [
      "Fitting with Nyström methods on 20000 samples...\n",
      "done in 1.859s\n",
      "Predicting Nyström methods on 29990 samples...\n",
      "done in 0.032s\n",
      "classification accuracy: 0.968\n",
      "\n",
      "Training time:\n",
      "0.156s - With LinearSVC (primal mode)\n",
      "2.206s - With random Fourier features methods\n",
      "6.401s - With SVC (Gaussian kernel)\n",
      "1.859s - With Nyström's methods\n",
      "\n",
      "Comparaison de temps de prédiction:\n",
      "0.092s - With LinearSVC (primal mode)\n",
      "0.033s - With random Fourier features methods\n",
      "4.436s - With SVC (Gaussian kernel)\n",
      "0.032s - With Nyström's methods\n",
      "\n",
      "Comparaison de l'accuracy:\n",
      "0.923 - With LinearSVC (primal mode)\n",
      "0.941 - With random Fourier features methods\n",
      "0.975 - With SVC (Gaussian kernel)\n",
      "0.968 - With Nyström's methods\n",
      "\n"
     ]
    }
   ],
   "source": [
    "\n",
    "n_samples, n_features = X_train.shape\n",
    "n_samples_test, _ = X_test.shape\n",
    "gamma = 1. / n_features\n",
    "Z_train, Z_test = nystrom(X_train, X_test, gamma, c=500, k=300, seed=44)\n",
    "\n",
    "print(\"Fitting with Nyström methods on %d samples...\" % n_samples)\n",
    "t0 = time()\n",
    "linear_clf.fit(Z_train, y_train)\n",
    "t_fit_nystrom = time() - t0\n",
    "print(\"done in %0.3fs\" % t_fit_nystrom)\n",
    "\n",
    "print(\"Predicting Nyström methods on %d samples...\" % n_samples_test)\n",
    "t0 = time()\n",
    "linear_clf.predict(Z_test)\n",
    "t_predict_nystrom = time()-t0\n",
    "print(\"done in %0.3fs\" % t_predict_nystrom)\n",
    "accuracy_nystrom = linear_clf.score(Z_test, y_test)\n",
    "print(\"classification accuracy: %0.3f\\n\" % accuracy_nystrom)\n",
    "\n",
    "\n",
    "\n",
    "print(\"Training time:\")\n",
    "print(\"%0.3fs - With LinearSVC (primal mode)\" % t_fit_linear_clf)\n",
    "print(\"%0.3fs - With random Fourier features methods\" % t_fit_rand_feat)\n",
    "print(\"%0.3fs - With SVC (Gaussian kernel)\" % t_fit_kernel_clf)\n",
    "print(\"%0.3fs - With Nyström's methods\\n\" % t_fit_nystrom)\n",
    "\n",
    "\n",
    "print(\"Comparaison de temps de prédiction:\")\n",
    "print(\"%0.3fs - With LinearSVC (primal mode)\" % t_predict_linear_clf)\n",
    "print(\"%0.3fs - With random Fourier features methods\" % t_predict_rand_feat)\n",
    "print(\"%0.3fs - With SVC (Gaussian kernel)\" % t_predict_kernel_clf)\n",
    "print(\"%0.3fs - With Nyström's methods\\n\" % t_predict_nystrom)\n",
    "\n",
    "\n",
    "print(\"Comparaison de l'accuracy:\")\n",
    "print(\"%0.3f - With LinearSVC (primal mode)\" % accuracy_linear)\n",
    "print(\"%0.3f - With random Fourier features methods\" % accuracy_rand_feat)\n",
    "print(\"%0.3f - With SVC (Gaussian kernel)\" % accuracy_kernel)\n",
    "print(\"%0.3f - With Nyström's methods\\n\" % accuracy_nystrom)\n"
   ]
  },
  {
   "cell_type": "markdown",
   "metadata": {},
   "source": [
    "## Vizualization and conclusions"
   ]
  },
  {
   "cell_type": "code",
   "execution_count": 10,
   "metadata": {},
   "outputs": [
    {
     "name": "stderr",
     "output_type": "stream",
     "text": [
      "12it [01:10,  5.89s/it]\n"
     ]
    },
    {
     "data": {
      "image/png": "[encoded data removed]",
      "text/plain": [
       "<Figure size 720x432 with 2 Axes>"
      ]
     },
     "metadata": {},
     "output_type": "display_data"
    }
   ],
   "source": [
    "ranks = np.arange(20, 600, 50)               # Initiating the results variables\n",
    "n_ranks = len(ranks)\n",
    "timing_rff = np.zeros(n_ranks)\n",
    "timing_nystrom = np.zeros(n_ranks)\n",
    "accuracy_nystrom = np.zeros(n_ranks)\n",
    "accuracy_rff = np.zeros(n_ranks)\n",
    "n_samples, n_features = X_train.shape\n",
    "n_samples_test, _ = X_test.shape\n",
    "gamma = 1. / n_features\n",
    "\n",
    "for i, c in tqdm(enumerate(ranks)):\n",
    "# Computing time & accuracy for random kernel features methods versus rank k\n",
    "    \n",
    "    t0 = time()\n",
    "    Z_train, Z_test = random_features(X_train, X_test, gamma, c, 42)\n",
    "    linear_clf.fit(Z_train, y_train)\n",
    "    linear_clf.predict(Z_test)\n",
    "    timing_rff[i] = time()-t0\n",
    "    accuracy_rff[i] = linear_clf.score(Z_test, y_test)\n",
    "\n",
    "# Then Nyström's methods\n",
    "    \n",
    "    t0 = time()\n",
    "    Z_train, Z_test = nystrom(X_train, X_test, gamma, c=c, k=c-10, seed=44)\n",
    "    linear_clf.fit(Z_train, y_train)\n",
    "    linear_clf.predict(Z_test)\n",
    "    timing_nystrom[i] = time()-t0\n",
    "    accuracy_nystrom[i] = linear_clf.score(Z_test, y_test)\n",
    "\n",
    "# Computing time and accuracy for SVC and LinearSVC don't depend on rank k. We'll find they are constant\n",
    "timing_linear = t_fit_linear_clf + t_predict_linear_clf\n",
    "timing_kernel = t_fit_kernel_clf + t_predict_kernel_clf\n",
    "\n",
    "\n",
    "# Display\n",
    "f, axes = plt.subplots(ncols=1, nrows=2, figsize=(10,6))\n",
    "ax1, ax2 = axes.ravel()\n",
    "\n",
    "ax1.plot(ranks-10, timing_nystrom, '-', label='Nystrom')\n",
    "ax1.plot(ranks, timing_rff, '-', label='RFF')\n",
    "ax1.plot(ranks, timing_linear * np.ones(n_ranks), '-', label='LinearSVC')\n",
    "ax1.plot(ranks, timing_kernel * np.ones(n_ranks), '-', label='RBF')\n",
    "ax1.set_xlabel('Number of features')\n",
    "ax1.set_ylabel('Time')\n",
    "ax1.legend(loc='lower right')\n",
    "\n",
    "ax2.plot(ranks-10, accuracy_nystrom, '-', label='Nystrom')\n",
    "ax2.plot(ranks, accuracy_rff, '-', label='RFF')\n",
    "ax2.plot(ranks, accuracy_linear * np.ones(n_ranks), '-', label='LinearSVC')\n",
    "ax2.plot(ranks, accuracy_kernel * np.ones(n_ranks), '-', label='RBF')\n",
    "ax2.set_xlabel('Number of features')\n",
    "ax2.set_ylabel('Accuracy')\n",
    "ax2.legend(loc='lower right')\n",
    "\n",
    "plt.tight_layout()\n",
    "plt.show()\n",
    "\n"
   ]
  },
  {
   "cell_type": "markdown",
   "metadata": {},
   "source": [
    "## Comments :\n",
    "For both computation time and accuracy we find that :\n",
    "sklearn.svm.SVC >= Nystrom > random Fourier features > sklearn.svm.LinearSCV.\n",
    "Nystrom's methods gets the best results , with just a little more computation time than LinearSVC and an accuracy\n",
    "just below SVC"
   ]
  }
 ],
 "metadata": {
  "kernelspec": {
   "display_name": "Python 3",
   "language": "python",
   "name": "python3"
  },
  "language_info": {
   "codemirror_mode": {
    "name": "ipython",
    "version": 3
   },
   "file_extension": ".py",
   "mimetype": "text/x-python",
   "name": "python",
   "nbconvert_exporter": "python",
   "pygments_lexer": "ipython3",
   "version": "3.7.10"
  }
 },
 "nbformat": 4,
 "nbformat_minor": 2
}
